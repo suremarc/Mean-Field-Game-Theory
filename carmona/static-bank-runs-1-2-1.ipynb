{
 "cells": [
  {
   "cell_type": "markdown",
   "metadata": {},
   "source": [
    "# 1.2.1 A Static Model of Bank Runs\n",
    "\n",
    "We simulate a _three dates/two periods_ framework in which a bank run occurs. At time $t = 0$ we have the following scenario:\n",
    "\n",
    "* $D_0$ is the amount of uninsured deposits which will be repaid as $D = (1+r)D_0$ with interest rate $r$ upon withdrawal, independently of the withdrawal date, provided that the bank does not fail before then.\n",
    "* $E$ represents the bank's own funds (equity capital).\n",
    "\n",
    "The bank's funds are used to finance an investment of size $I$ in a risky asset, and the remaining funds $M$ are held in cash reserves. Without loss of generality we can assume $D_0 = 1$. \n",
    "\n",
    "We have a horizon $t = 2$ at which the bank's return on the risky investments are collected, the deposits are repaid, and the stockholders of the bank get any remaining funds. The returns of the bank's investment are given by the value of a Gaussian R.V. $R ~ N(\\overline{R}, \\sigma_R^2)$, which is realized at time $t = 2$. \n",
    "\n",
    "The bank regulator lets the bank operate based on:\n",
    "\n",
    "* the solvency threshold $R_S = (D - M)/I; observe "
   ]
  },
  {
   "cell_type": "code",
   "execution_count": null,
   "metadata": {},
   "outputs": [
    {
     "ename": "SyntaxError",
     "evalue": "invalid syntax (2798855492.py, line 7)",
     "output_type": "error",
     "traceback": [
      "\u001b[0;36m  Cell \u001b[0;32mIn[2], line 7\u001b[0;36m\u001b[0m\n\u001b[0;31m    m =\u001b[0m\n\u001b[0m        ^\u001b[0m\n\u001b[0;31mSyntaxError\u001b[0m\u001b[0;31m:\u001b[0m invalid syntax\n"
     ]
    }
   ],
   "source": [
    "# Number of agents\n",
    "N = 10\n",
    "\n",
    "# Return on bank's risky investment\n",
    "Rbar = 1\n",
    "sigma_R = 1\n",
    "\n",
    "# Deposit interest rate\n",
    "r = 0.06\n",
    "\n",
    "# Percent of bank assets in cash reserves\n",
    "m0 = 0.3"
   ]
  }
 ],
 "metadata": {
  "kernelspec": {
   "display_name": "mfg",
   "language": "python",
   "name": "python3"
  },
  "language_info": {
   "codemirror_mode": {
    "name": "ipython",
    "version": 3
   },
   "file_extension": ".py",
   "mimetype": "text/x-python",
   "name": "python",
   "nbconvert_exporter": "python",
   "pygments_lexer": "ipython3",
   "version": "3.13.0"
  }
 },
 "nbformat": 4,
 "nbformat_minor": 2
}
